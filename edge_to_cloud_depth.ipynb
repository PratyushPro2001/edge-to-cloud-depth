{
  "nbformat": 4,
  "nbformat_minor": 0,
  "metadata": {
    "colab": {
      "provenance": [],
      "gpuType": "T4"
    },
    "kernelspec": {
      "name": "python3",
      "display_name": "Python 3"
    },
    "language_info": {
      "name": "python"
    },
    "accelerator": "GPU"
  },
  "cells": [
    {
      "cell_type": "code",
      "execution_count": 1,
      "metadata": {
        "colab": {
          "base_uri": "https://localhost:8080/"
        },
        "id": "HLJy6gAcvwb-",
        "outputId": "1f0b61fc-b3bd-41b7-804b-7d4bfa2f9250"
      },
      "outputs": [
        {
          "output_type": "stream",
          "name": "stdout",
          "text": [
            "Requirement already satisfied: fastapi in /usr/local/lib/python3.11/dist-packages (0.116.1)\n",
            "Requirement already satisfied: uvicorn in /usr/local/lib/python3.11/dist-packages (0.35.0)\n",
            "Requirement already satisfied: nest-asyncio in /usr/local/lib/python3.11/dist-packages (1.6.0)\n",
            "Requirement already satisfied: python-multipart in /usr/local/lib/python3.11/dist-packages (0.0.20)\n",
            "Requirement already satisfied: timm in /usr/local/lib/python3.11/dist-packages (1.0.19)\n",
            "Requirement already satisfied: opencv-python in /usr/local/lib/python3.11/dist-packages (4.12.0.88)\n",
            "Requirement already satisfied: starlette<0.48.0,>=0.40.0 in /usr/local/lib/python3.11/dist-packages (from fastapi) (0.47.2)\n",
            "Requirement already satisfied: pydantic!=1.8,!=1.8.1,!=2.0.0,!=2.0.1,!=2.1.0,<3.0.0,>=1.7.4 in /usr/local/lib/python3.11/dist-packages (from fastapi) (2.11.7)\n",
            "Requirement already satisfied: typing-extensions>=4.8.0 in /usr/local/lib/python3.11/dist-packages (from fastapi) (4.14.1)\n",
            "Requirement already satisfied: click>=7.0 in /usr/local/lib/python3.11/dist-packages (from uvicorn) (8.2.1)\n",
            "Requirement already satisfied: h11>=0.8 in /usr/local/lib/python3.11/dist-packages (from uvicorn) (0.16.0)\n",
            "Requirement already satisfied: torch in /usr/local/lib/python3.11/dist-packages (from timm) (2.6.0+cu124)\n",
            "Requirement already satisfied: torchvision in /usr/local/lib/python3.11/dist-packages (from timm) (0.21.0+cu124)\n",
            "Requirement already satisfied: pyyaml in /usr/local/lib/python3.11/dist-packages (from timm) (6.0.2)\n",
            "Requirement already satisfied: huggingface_hub in /usr/local/lib/python3.11/dist-packages (from timm) (0.34.1)\n",
            "Requirement already satisfied: safetensors in /usr/local/lib/python3.11/dist-packages (from timm) (0.5.3)\n",
            "Requirement already satisfied: numpy<2.3.0,>=2 in /usr/local/lib/python3.11/dist-packages (from opencv-python) (2.0.2)\n",
            "Requirement already satisfied: annotated-types>=0.6.0 in /usr/local/lib/python3.11/dist-packages (from pydantic!=1.8,!=1.8.1,!=2.0.0,!=2.0.1,!=2.1.0,<3.0.0,>=1.7.4->fastapi) (0.7.0)\n",
            "Requirement already satisfied: pydantic-core==2.33.2 in /usr/local/lib/python3.11/dist-packages (from pydantic!=1.8,!=1.8.1,!=2.0.0,!=2.0.1,!=2.1.0,<3.0.0,>=1.7.4->fastapi) (2.33.2)\n",
            "Requirement already satisfied: typing-inspection>=0.4.0 in /usr/local/lib/python3.11/dist-packages (from pydantic!=1.8,!=1.8.1,!=2.0.0,!=2.0.1,!=2.1.0,<3.0.0,>=1.7.4->fastapi) (0.4.1)\n",
            "Requirement already satisfied: anyio<5,>=3.6.2 in /usr/local/lib/python3.11/dist-packages (from starlette<0.48.0,>=0.40.0->fastapi) (4.9.0)\n",
            "Requirement already satisfied: filelock in /usr/local/lib/python3.11/dist-packages (from huggingface_hub->timm) (3.18.0)\n",
            "Requirement already satisfied: fsspec>=2023.5.0 in /usr/local/lib/python3.11/dist-packages (from huggingface_hub->timm) (2025.3.0)\n",
            "Requirement already satisfied: packaging>=20.9 in /usr/local/lib/python3.11/dist-packages (from huggingface_hub->timm) (25.0)\n",
            "Requirement already satisfied: requests in /usr/local/lib/python3.11/dist-packages (from huggingface_hub->timm) (2.32.3)\n",
            "Requirement already satisfied: tqdm>=4.42.1 in /usr/local/lib/python3.11/dist-packages (from huggingface_hub->timm) (4.67.1)\n",
            "Requirement already satisfied: hf-xet<2.0.0,>=1.1.3 in /usr/local/lib/python3.11/dist-packages (from huggingface_hub->timm) (1.1.5)\n",
            "Requirement already satisfied: networkx in /usr/local/lib/python3.11/dist-packages (from torch->timm) (3.5)\n",
            "Requirement already satisfied: jinja2 in /usr/local/lib/python3.11/dist-packages (from torch->timm) (3.1.6)\n",
            "Collecting nvidia-cuda-nvrtc-cu12==12.4.127 (from torch->timm)\n",
            "  Downloading nvidia_cuda_nvrtc_cu12-12.4.127-py3-none-manylinux2014_x86_64.whl.metadata (1.5 kB)\n",
            "Collecting nvidia-cuda-runtime-cu12==12.4.127 (from torch->timm)\n",
            "  Downloading nvidia_cuda_runtime_cu12-12.4.127-py3-none-manylinux2014_x86_64.whl.metadata (1.5 kB)\n",
            "Collecting nvidia-cuda-cupti-cu12==12.4.127 (from torch->timm)\n",
            "  Downloading nvidia_cuda_cupti_cu12-12.4.127-py3-none-manylinux2014_x86_64.whl.metadata (1.6 kB)\n",
            "Collecting nvidia-cudnn-cu12==9.1.0.70 (from torch->timm)\n",
            "  Downloading nvidia_cudnn_cu12-9.1.0.70-py3-none-manylinux2014_x86_64.whl.metadata (1.6 kB)\n",
            "Collecting nvidia-cublas-cu12==12.4.5.8 (from torch->timm)\n",
            "  Downloading nvidia_cublas_cu12-12.4.5.8-py3-none-manylinux2014_x86_64.whl.metadata (1.5 kB)\n",
            "Collecting nvidia-cufft-cu12==11.2.1.3 (from torch->timm)\n",
            "  Downloading nvidia_cufft_cu12-11.2.1.3-py3-none-manylinux2014_x86_64.whl.metadata (1.5 kB)\n",
            "Collecting nvidia-curand-cu12==10.3.5.147 (from torch->timm)\n",
            "  Downloading nvidia_curand_cu12-10.3.5.147-py3-none-manylinux2014_x86_64.whl.metadata (1.5 kB)\n",
            "Collecting nvidia-cusolver-cu12==11.6.1.9 (from torch->timm)\n",
            "  Downloading nvidia_cusolver_cu12-11.6.1.9-py3-none-manylinux2014_x86_64.whl.metadata (1.6 kB)\n",
            "Collecting nvidia-cusparse-cu12==12.3.1.170 (from torch->timm)\n",
            "  Downloading nvidia_cusparse_cu12-12.3.1.170-py3-none-manylinux2014_x86_64.whl.metadata (1.6 kB)\n",
            "Requirement already satisfied: nvidia-cusparselt-cu12==0.6.2 in /usr/local/lib/python3.11/dist-packages (from torch->timm) (0.6.2)\n",
            "Requirement already satisfied: nvidia-nccl-cu12==2.21.5 in /usr/local/lib/python3.11/dist-packages (from torch->timm) (2.21.5)\n",
            "Requirement already satisfied: nvidia-nvtx-cu12==12.4.127 in /usr/local/lib/python3.11/dist-packages (from torch->timm) (12.4.127)\n",
            "Collecting nvidia-nvjitlink-cu12==12.4.127 (from torch->timm)\n",
            "  Downloading nvidia_nvjitlink_cu12-12.4.127-py3-none-manylinux2014_x86_64.whl.metadata (1.5 kB)\n",
            "Requirement already satisfied: triton==3.2.0 in /usr/local/lib/python3.11/dist-packages (from torch->timm) (3.2.0)\n",
            "Requirement already satisfied: sympy==1.13.1 in /usr/local/lib/python3.11/dist-packages (from torch->timm) (1.13.1)\n",
            "Requirement already satisfied: mpmath<1.4,>=1.1.0 in /usr/local/lib/python3.11/dist-packages (from sympy==1.13.1->torch->timm) (1.3.0)\n",
            "Requirement already satisfied: pillow!=8.3.*,>=5.3.0 in /usr/local/lib/python3.11/dist-packages (from torchvision->timm) (11.3.0)\n",
            "Requirement already satisfied: idna>=2.8 in /usr/local/lib/python3.11/dist-packages (from anyio<5,>=3.6.2->starlette<0.48.0,>=0.40.0->fastapi) (3.10)\n",
            "Requirement already satisfied: sniffio>=1.1 in /usr/local/lib/python3.11/dist-packages (from anyio<5,>=3.6.2->starlette<0.48.0,>=0.40.0->fastapi) (1.3.1)\n",
            "Requirement already satisfied: MarkupSafe>=2.0 in /usr/local/lib/python3.11/dist-packages (from jinja2->torch->timm) (3.0.2)\n",
            "Requirement already satisfied: charset-normalizer<4,>=2 in /usr/local/lib/python3.11/dist-packages (from requests->huggingface_hub->timm) (3.4.2)\n",
            "Requirement already satisfied: urllib3<3,>=1.21.1 in /usr/local/lib/python3.11/dist-packages (from requests->huggingface_hub->timm) (2.5.0)\n",
            "Requirement already satisfied: certifi>=2017.4.17 in /usr/local/lib/python3.11/dist-packages (from requests->huggingface_hub->timm) (2025.7.14)\n",
            "Downloading nvidia_cublas_cu12-12.4.5.8-py3-none-manylinux2014_x86_64.whl (363.4 MB)\n",
            "\u001b[2K   \u001b[90m━━━━━━━━━━━━━━━━━━━━━━━━━━━━━━━━━━━━━━━━\u001b[0m \u001b[32m363.4/363.4 MB\u001b[0m \u001b[31m4.6 MB/s\u001b[0m eta \u001b[36m0:00:00\u001b[0m\n",
            "\u001b[?25hDownloading nvidia_cuda_cupti_cu12-12.4.127-py3-none-manylinux2014_x86_64.whl (13.8 MB)\n",
            "\u001b[2K   \u001b[90m━━━━━━━━━━━━━━━━━━━━━━━━━━━━━━━━━━━━━━━━\u001b[0m \u001b[32m13.8/13.8 MB\u001b[0m \u001b[31m116.7 MB/s\u001b[0m eta \u001b[36m0:00:00\u001b[0m\n",
            "\u001b[?25hDownloading nvidia_cuda_nvrtc_cu12-12.4.127-py3-none-manylinux2014_x86_64.whl (24.6 MB)\n",
            "\u001b[2K   \u001b[90m━━━━━━━━━━━━━━━━━━━━━━━━━━━━━━━━━━━━━━━━\u001b[0m \u001b[32m24.6/24.6 MB\u001b[0m \u001b[31m88.3 MB/s\u001b[0m eta \u001b[36m0:00:00\u001b[0m\n",
            "\u001b[?25hDownloading nvidia_cuda_runtime_cu12-12.4.127-py3-none-manylinux2014_x86_64.whl (883 kB)\n",
            "\u001b[2K   \u001b[90m━━━━━━━━━━━━━━━━━━━━━━━━━━━━━━━━━━━━━━━━\u001b[0m \u001b[32m883.7/883.7 kB\u001b[0m \u001b[31m55.5 MB/s\u001b[0m eta \u001b[36m0:00:00\u001b[0m\n",
            "\u001b[?25hDownloading nvidia_cudnn_cu12-9.1.0.70-py3-none-manylinux2014_x86_64.whl (664.8 MB)\n",
            "\u001b[2K   \u001b[90m━━━━━━━━━━━━━━━━━━━━━━━━━━━━━━━━━━━━━━━━\u001b[0m \u001b[32m664.8/664.8 MB\u001b[0m \u001b[31m3.0 MB/s\u001b[0m eta \u001b[36m0:00:00\u001b[0m\n",
            "\u001b[?25hDownloading nvidia_cufft_cu12-11.2.1.3-py3-none-manylinux2014_x86_64.whl (211.5 MB)\n",
            "\u001b[2K   \u001b[90m━━━━━━━━━━━━━━━━━━━━━━━━━━━━━━━━━━━━━━━━\u001b[0m \u001b[32m211.5/211.5 MB\u001b[0m \u001b[31m6.0 MB/s\u001b[0m eta \u001b[36m0:00:00\u001b[0m\n",
            "\u001b[?25hDownloading nvidia_curand_cu12-10.3.5.147-py3-none-manylinux2014_x86_64.whl (56.3 MB)\n",
            "\u001b[2K   \u001b[90m━━━━━━━━━━━━━━━━━━━━━━━━━━━━━━━━━━━━━━━━\u001b[0m \u001b[32m56.3/56.3 MB\u001b[0m \u001b[31m12.9 MB/s\u001b[0m eta \u001b[36m0:00:00\u001b[0m\n",
            "\u001b[?25hDownloading nvidia_cusolver_cu12-11.6.1.9-py3-none-manylinux2014_x86_64.whl (127.9 MB)\n",
            "\u001b[2K   \u001b[90m━━━━━━━━━━━━━━━━━━━━━━━━━━━━━━━━━━━━━━━━\u001b[0m \u001b[32m127.9/127.9 MB\u001b[0m \u001b[31m7.6 MB/s\u001b[0m eta \u001b[36m0:00:00\u001b[0m\n",
            "\u001b[?25hDownloading nvidia_cusparse_cu12-12.3.1.170-py3-none-manylinux2014_x86_64.whl (207.5 MB)\n",
            "\u001b[2K   \u001b[90m━━━━━━━━━━━━━━━━━━━━━━━━━━━━━━━━━━━━━━━━\u001b[0m \u001b[32m207.5/207.5 MB\u001b[0m \u001b[31m6.4 MB/s\u001b[0m eta \u001b[36m0:00:00\u001b[0m\n",
            "\u001b[?25hDownloading nvidia_nvjitlink_cu12-12.4.127-py3-none-manylinux2014_x86_64.whl (21.1 MB)\n",
            "\u001b[2K   \u001b[90m━━━━━━━━━━━━━━━━━━━━━━━━━━━━━━━━━━━━━━━━\u001b[0m \u001b[32m21.1/21.1 MB\u001b[0m \u001b[31m101.4 MB/s\u001b[0m eta \u001b[36m0:00:00\u001b[0m\n",
            "\u001b[?25hInstalling collected packages: nvidia-nvjitlink-cu12, nvidia-curand-cu12, nvidia-cufft-cu12, nvidia-cuda-runtime-cu12, nvidia-cuda-nvrtc-cu12, nvidia-cuda-cupti-cu12, nvidia-cublas-cu12, nvidia-cusparse-cu12, nvidia-cudnn-cu12, nvidia-cusolver-cu12\n",
            "  Attempting uninstall: nvidia-nvjitlink-cu12\n",
            "    Found existing installation: nvidia-nvjitlink-cu12 12.5.82\n",
            "    Uninstalling nvidia-nvjitlink-cu12-12.5.82:\n",
            "      Successfully uninstalled nvidia-nvjitlink-cu12-12.5.82\n",
            "  Attempting uninstall: nvidia-curand-cu12\n",
            "    Found existing installation: nvidia-curand-cu12 10.3.6.82\n",
            "    Uninstalling nvidia-curand-cu12-10.3.6.82:\n",
            "      Successfully uninstalled nvidia-curand-cu12-10.3.6.82\n",
            "  Attempting uninstall: nvidia-cufft-cu12\n",
            "    Found existing installation: nvidia-cufft-cu12 11.2.3.61\n",
            "    Uninstalling nvidia-cufft-cu12-11.2.3.61:\n",
            "      Successfully uninstalled nvidia-cufft-cu12-11.2.3.61\n",
            "  Attempting uninstall: nvidia-cuda-runtime-cu12\n",
            "    Found existing installation: nvidia-cuda-runtime-cu12 12.5.82\n",
            "    Uninstalling nvidia-cuda-runtime-cu12-12.5.82:\n",
            "      Successfully uninstalled nvidia-cuda-runtime-cu12-12.5.82\n",
            "  Attempting uninstall: nvidia-cuda-nvrtc-cu12\n",
            "    Found existing installation: nvidia-cuda-nvrtc-cu12 12.5.82\n",
            "    Uninstalling nvidia-cuda-nvrtc-cu12-12.5.82:\n",
            "      Successfully uninstalled nvidia-cuda-nvrtc-cu12-12.5.82\n",
            "  Attempting uninstall: nvidia-cuda-cupti-cu12\n",
            "    Found existing installation: nvidia-cuda-cupti-cu12 12.5.82\n",
            "    Uninstalling nvidia-cuda-cupti-cu12-12.5.82:\n",
            "      Successfully uninstalled nvidia-cuda-cupti-cu12-12.5.82\n",
            "  Attempting uninstall: nvidia-cublas-cu12\n",
            "    Found existing installation: nvidia-cublas-cu12 12.5.3.2\n",
            "    Uninstalling nvidia-cublas-cu12-12.5.3.2:\n",
            "      Successfully uninstalled nvidia-cublas-cu12-12.5.3.2\n",
            "  Attempting uninstall: nvidia-cusparse-cu12\n",
            "    Found existing installation: nvidia-cusparse-cu12 12.5.1.3\n",
            "    Uninstalling nvidia-cusparse-cu12-12.5.1.3:\n",
            "      Successfully uninstalled nvidia-cusparse-cu12-12.5.1.3\n",
            "  Attempting uninstall: nvidia-cudnn-cu12\n",
            "    Found existing installation: nvidia-cudnn-cu12 9.3.0.75\n",
            "    Uninstalling nvidia-cudnn-cu12-9.3.0.75:\n",
            "      Successfully uninstalled nvidia-cudnn-cu12-9.3.0.75\n",
            "  Attempting uninstall: nvidia-cusolver-cu12\n",
            "    Found existing installation: nvidia-cusolver-cu12 11.6.3.83\n",
            "    Uninstalling nvidia-cusolver-cu12-11.6.3.83:\n",
            "      Successfully uninstalled nvidia-cusolver-cu12-11.6.3.83\n",
            "Successfully installed nvidia-cublas-cu12-12.4.5.8 nvidia-cuda-cupti-cu12-12.4.127 nvidia-cuda-nvrtc-cu12-12.4.127 nvidia-cuda-runtime-cu12-12.4.127 nvidia-cudnn-cu12-9.1.0.70 nvidia-cufft-cu12-11.2.1.3 nvidia-curand-cu12-10.3.5.147 nvidia-cusolver-cu12-11.6.1.9 nvidia-cusparse-cu12-12.3.1.170 nvidia-nvjitlink-cu12-12.4.127\n",
            "Collecting git+https://github.com/isl-org/MiDaS.git\n",
            "  Cloning https://github.com/isl-org/MiDaS.git to /tmp/pip-req-build-lmb4w1sa\n",
            "  Running command git clone --filter=blob:none --quiet https://github.com/isl-org/MiDaS.git /tmp/pip-req-build-lmb4w1sa\n",
            "  Resolved https://github.com/isl-org/MiDaS.git to commit 454597711a62eabcbf7d1e89f3fb9f569051ac9b\n",
            "\u001b[31mERROR: git+https://github.com/isl-org/MiDaS.git does not appear to be a Python project: neither 'setup.py' nor 'pyproject.toml' found.\u001b[0m\u001b[31m\n",
            "\u001b[0m"
          ]
        }
      ],
      "source": [
        "!pip install fastapi uvicorn nest-asyncio python-multipart timm opencv-python\n",
        "\n",
        "# MiDaS & model download\n",
        "!pip install git+https://github.com/isl-org/MiDaS.git\n"
      ]
    },
    {
      "cell_type": "code",
      "source": [
        "!git clone https://github.com/isl-org/MiDaS.git\n",
        "\n"
      ],
      "metadata": {
        "colab": {
          "base_uri": "https://localhost:8080/"
        },
        "id": "KsisuV_yyysY",
        "outputId": "cafc1b1f-ffd4-4ae0-cc59-65e191da96c1"
      },
      "execution_count": 2,
      "outputs": [
        {
          "output_type": "stream",
          "name": "stdout",
          "text": [
            "Cloning into 'MiDaS'...\n",
            "remote: Enumerating objects: 622, done.\u001b[K\n",
            "remote: Counting objects: 100% (245/245), done.\u001b[K\n",
            "remote: Compressing objects: 100% (109/109), done.\u001b[K\n",
            "remote: Total 622 (delta 183), reused 136 (delta 136), pack-reused 377 (from 2)\u001b[K\n",
            "Receiving objects: 100% (622/622), 3.44 MiB | 3.62 MiB/s, done.\n",
            "Resolving deltas: 100% (246/246), done.\n"
          ]
        }
      ]
    },
    {
      "cell_type": "code",
      "source": [
        "import sys\n",
        "sys.path.append('/content/MiDaS')\n"
      ],
      "metadata": {
        "id": "zltOFOczy6DT"
      },
      "execution_count": 3,
      "outputs": []
    },
    {
      "cell_type": "code",
      "source": [
        "!wget https://huggingface.co/Intel/dpt-large/resolve/main/dpt_large-midas-2f21e586.pt -O /content/dpt_large-midas.pt\n",
        "\n"
      ],
      "metadata": {
        "colab": {
          "base_uri": "https://localhost:8080/"
        },
        "id": "FlupAjDg0Ldm",
        "outputId": "475f0b65-1c74-45d7-b16b-22043b6028d6"
      },
      "execution_count": 4,
      "outputs": [
        {
          "output_type": "stream",
          "name": "stdout",
          "text": [
            "--2025-08-02 10:50:32--  https://huggingface.co/Intel/dpt-large/resolve/main/dpt_large-midas-2f21e586.pt\n",
            "Resolving huggingface.co (huggingface.co)... 13.35.202.97, 13.35.202.121, 13.35.202.40, ...\n",
            "Connecting to huggingface.co (huggingface.co)|13.35.202.97|:443... connected.\n",
            "HTTP request sent, awaiting response... 404 Not Found\n",
            "2025-08-02 10:50:32 ERROR 404: Not Found.\n",
            "\n"
          ]
        }
      ]
    },
    {
      "cell_type": "code",
      "source": [
        "import torch\n",
        "import cv2\n",
        "import numpy as np\n",
        "from torchvision.transforms import Compose\n",
        "import nest_asyncio\n",
        "import uvicorn\n",
        "from fastapi import FastAPI, File, UploadFile\n",
        "from fastapi.responses import Response\n",
        "\n",
        "# Setup\n",
        "device = torch.device(\"cuda\" if torch.cuda.is_available() else \"cpu\")\n",
        "\n",
        "# Load MiDaS model\n",
        "model_type = \"MiDaS_small\"  # options: \"DPT_Large\", \"DPT_Hybrid\", \"MiDaS_small\"\n",
        "midas = torch.hub.load(\"intel-isl/MiDaS\", model_type)\n",
        "midas.to(device)\n",
        "midas.eval()\n",
        "\n",
        "# Load transforms\n",
        "midas_transforms = torch.hub.load(\"intel-isl/MiDaS\", \"transforms\")\n",
        "transform = midas_transforms.dpt_transform"
      ],
      "metadata": {
        "colab": {
          "base_uri": "https://localhost:8080/"
        },
        "id": "loQjW_0QzCJT",
        "outputId": "e7418f2b-b7a6-4c89-f933-1aec65791892"
      },
      "execution_count": 5,
      "outputs": [
        {
          "output_type": "stream",
          "name": "stderr",
          "text": [
            "/usr/local/lib/python3.11/dist-packages/torch/hub.py:330: UserWarning: You are about to download and run code from an untrusted repository. In a future release, this won't be allowed. To add the repository to your trusted list, change the command to {calling_fn}(..., trust_repo=False) and a command prompt will appear asking for an explicit confirmation of trust, or load(..., trust_repo=True), which will assume that the prompt is to be answered with 'yes'. You can also use load(..., trust_repo='check') which will only prompt for confirmation if the repo is not already trusted. This will eventually be the default behaviour\n",
            "  warnings.warn(\n",
            "Downloading: \"https://github.com/intel-isl/MiDaS/zipball/master\" to /root/.cache/torch/hub/master.zip\n",
            "/usr/local/lib/python3.11/dist-packages/timm/models/layers/__init__.py:48: FutureWarning: Importing from timm.models.layers is deprecated, please import via timm.layers\n",
            "  warnings.warn(f\"Importing from {__name__} is deprecated, please import via timm.layers\", FutureWarning)\n",
            "Downloading: \"https://github.com/isl-org/MiDaS/releases/download/v3/dpt_large_384.pt\" to /root/.cache/torch/hub/checkpoints/dpt_large_384.pt\n",
            "100%|██████████| 1.28G/1.28G [00:39<00:00, 35.1MB/s]\n",
            "Using cache found in /root/.cache/torch/hub/intel-isl_MiDaS_master\n"
          ]
        }
      ]
    },
    {
      "cell_type": "code",
      "source": [
        "app = FastAPI()\n",
        "\n",
        "@app.post(\"/predict\")\n",
        "async def predict_depth(image: UploadFile = File(...)):\n",
        "    contents = await image.read()\n",
        "    img_np = np.frombuffer(contents, np.uint8)\n",
        "    img = cv2.imdecode(img_np, cv2.IMREAD_COLOR)\n",
        "\n",
        "    # Preprocess\n",
        "    img_rgb = cv2.cvtColor(img, cv2.COLOR_BGR2RGB)\n",
        "    input_tensor = transform(img_rgb).to(device)\n",
        "\n",
        "    # Predict\n",
        "    with torch.no_grad():\n",
        "        prediction = midas(input_tensor)\n",
        "        prediction = torch.nn.functional.interpolate(\n",
        "            prediction.unsqueeze(1),\n",
        "            size=img.shape[:2],\n",
        "            mode=\"bicubic\",\n",
        "            align_corners=False\n",
        "        ).squeeze()\n",
        "\n",
        "    # Postprocess\n",
        "    depth_map = prediction.cpu().numpy()\n",
        "    depth_map = cv2.normalize(depth_map, None, 0, 255, cv2.NORM_MINMAX)\n",
        "    depth_map = depth_map.astype(np.uint8)\n",
        "    depth_color = cv2.applyColorMap(depth_map, cv2.COLORMAP_MAGMA)\n",
        "\n",
        "    _, encoded_img = cv2.imencode('.jpg', depth_color)\n",
        "    return Response(content=encoded_img.tobytes(), media_type=\"image/jpeg\")\n",
        "\n",
        "# Allow FastAPI to run in Colab\n",
        "nest_asyncio.apply()\n"
      ],
      "metadata": {
        "id": "-llzeqGG1bH1"
      },
      "execution_count": 6,
      "outputs": []
    },
    {
      "cell_type": "code",
      "source": [
        "!pip install pyngrok"
      ],
      "metadata": {
        "id": "kpxQx29e2hFF",
        "outputId": "5869f119-21b7-473d-9f97-c1e53984850e",
        "colab": {
          "base_uri": "https://localhost:8080/"
        }
      },
      "execution_count": 7,
      "outputs": [
        {
          "output_type": "stream",
          "name": "stdout",
          "text": [
            "Collecting pyngrok\n",
            "  Downloading pyngrok-7.2.12-py3-none-any.whl.metadata (9.4 kB)\n",
            "Requirement already satisfied: PyYAML>=5.1 in /usr/local/lib/python3.11/dist-packages (from pyngrok) (6.0.2)\n",
            "Downloading pyngrok-7.2.12-py3-none-any.whl (26 kB)\n",
            "Installing collected packages: pyngrok\n",
            "Successfully installed pyngrok-7.2.12\n"
          ]
        }
      ]
    },
    {
      "cell_type": "code",
      "source": [
        "!ngrok config add-authtoken 30jCIkrAAzsPmkeTidvl6doSoz7_2e7cW7vaT4zKTWCBzK2d5\n"
      ],
      "metadata": {
        "colab": {
          "base_uri": "https://localhost:8080/"
        },
        "id": "2q9fBY2mZRD8",
        "outputId": "92763001-599c-4c4e-ce9e-bd81d8e66960"
      },
      "execution_count": 24,
      "outputs": [
        {
          "output_type": "stream",
          "name": "stdout",
          "text": [
            "Authtoken saved to configuration file: /root/.config/ngrok/ngrok.yml\n"
          ]
        }
      ]
    },
    {
      "cell_type": "code",
      "source": [
        "\n",
        "from pyngrok import ngrok\n",
        "\n",
        "public_url = ngrok.connect(7860)\n",
        "print(\"🔗 Public URL:\", public_url)\n"
      ],
      "metadata": {
        "colab": {
          "base_uri": "https://localhost:8080/"
        },
        "id": "IhMQ0axw2cZf",
        "outputId": "9a61507d-f54c-4b7c-a116-69a72b0feaac"
      },
      "execution_count": 36,
      "outputs": [
        {
          "output_type": "stream",
          "name": "stdout",
          "text": [
            "🔗 Public URL: NgrokTunnel: \"https://a40a9362e082.ngrok-free.app\" -> \"http://localhost:7860\"\n"
          ]
        }
      ]
    },
    {
      "cell_type": "code",
      "source": [
        "uvicorn.run(app, host=\"0.0.0.0\", port=7860)\n"
      ],
      "metadata": {
        "colab": {
          "base_uri": "https://localhost:8080/"
        },
        "id": "-O6omHlKzPJO",
        "outputId": "b79f3368-c3bd-48d2-e1f1-96a69623643a"
      },
      "execution_count": 37,
      "outputs": [
        {
          "output_type": "stream",
          "name": "stderr",
          "text": [
            "INFO:     Started server process [693]\n",
            "INFO:     Waiting for application startup.\n",
            "INFO:     Application startup complete.\n",
            "INFO:     Uvicorn running on http://0.0.0.0:7860 (Press CTRL+C to quit)\n"
          ]
        },
        {
          "output_type": "stream",
          "name": "stdout",
          "text": [
            "INFO:     2405:201:c41f:e027:2713:ee1b:dfaa:1e70:0 - \"POST /predict HTTP/1.1\" 200 OK\n",
            "INFO:     2405:201:c41f:e027:2713:ee1b:dfaa:1e70:0 - \"POST /predict HTTP/1.1\" 200 OK\n",
            "INFO:     2405:201:c41f:e027:2713:ee1b:dfaa:1e70:0 - \"POST /predict HTTP/1.1\" 200 OK\n"
          ]
        },
        {
          "output_type": "stream",
          "name": "stderr",
          "text": [
            "ERROR:asyncio:Task exception was never retrieved\n",
            "future: <Task finished name='Task-642' coro=<Server.serve() done, defined at /usr/local/lib/python3.11/dist-packages/uvicorn/server.py:69> exception=KeyboardInterrupt()>\n",
            "Traceback (most recent call last):\n",
            "  File \"/usr/local/lib/python3.11/dist-packages/uvicorn/main.py\", line 580, in run\n",
            "    server.run()\n",
            "  File \"/usr/local/lib/python3.11/dist-packages/uvicorn/server.py\", line 67, in run\n",
            "    return asyncio.run(self.serve(sockets=sockets))\n",
            "           ^^^^^^^^^^^^^^^^^^^^^^^^^^^^^^^^^^^^^^^^\n",
            "  File \"/usr/local/lib/python3.11/dist-packages/nest_asyncio.py\", line 30, in run\n",
            "    return loop.run_until_complete(task)\n",
            "           ^^^^^^^^^^^^^^^^^^^^^^^^^^^^^\n",
            "  File \"/usr/local/lib/python3.11/dist-packages/nest_asyncio.py\", line 92, in run_until_complete\n",
            "    self._run_once()\n",
            "  File \"/usr/local/lib/python3.11/dist-packages/nest_asyncio.py\", line 133, in _run_once\n",
            "    handle._run()\n",
            "  File \"/usr/lib/python3.11/asyncio/events.py\", line 84, in _run\n",
            "    self._context.run(self._callback, *self._args)\n",
            "  File \"/usr/lib/python3.11/asyncio/tasks.py\", line 360, in __wakeup\n",
            "    self.__step()\n",
            "  File \"/usr/lib/python3.11/asyncio/tasks.py\", line 277, in __step\n",
            "    result = coro.send(None)\n",
            "             ^^^^^^^^^^^^^^^\n",
            "  File \"/usr/local/lib/python3.11/dist-packages/uvicorn/server.py\", line 70, in serve\n",
            "    with self.capture_signals():\n",
            "  File \"/usr/lib/python3.11/contextlib.py\", line 144, in __exit__\n",
            "    next(self.gen)\n",
            "  File \"/usr/local/lib/python3.11/dist-packages/uvicorn/server.py\", line 331, in capture_signals\n",
            "    signal.raise_signal(captured_signal)\n",
            "KeyboardInterrupt\n"
          ]
        },
        {
          "output_type": "stream",
          "name": "stdout",
          "text": [
            "INFO:     2405:201:c41f:e027:2713:ee1b:dfaa:1e70:0 - \"POST /predict HTTP/1.1\" 200 OK\n",
            "INFO:     2405:201:c41f:e027:2713:ee1b:dfaa:1e70:0 - \"POST /predict HTTP/1.1\" 200 OK\n",
            "INFO:     2405:201:c41f:e027:2713:ee1b:dfaa:1e70:0 - \"POST /predict HTTP/1.1\" 200 OK\n",
            "INFO:     2405:201:c41f:e027:2713:ee1b:dfaa:1e70:0 - \"POST /predict HTTP/1.1\" 200 OK\n",
            "INFO:     2405:201:c41f:e027:2713:ee1b:dfaa:1e70:0 - \"POST /predict HTTP/1.1\" 200 OK\n",
            "INFO:     2405:201:c41f:e027:2713:ee1b:dfaa:1e70:0 - \"POST /predict HTTP/1.1\" 200 OK\n",
            "INFO:     2405:201:c41f:e027:2713:ee1b:dfaa:1e70:0 - \"POST /predict HTTP/1.1\" 200 OK\n",
            "INFO:     2405:201:c41f:e027:2713:ee1b:dfaa:1e70:0 - \"POST /predict HTTP/1.1\" 200 OK\n",
            "INFO:     2405:201:c41f:e027:2713:ee1b:dfaa:1e70:0 - \"POST /predict HTTP/1.1\" 200 OK\n",
            "INFO:     2405:201:c41f:e027:2713:ee1b:dfaa:1e70:0 - \"POST /predict HTTP/1.1\" 200 OK\n",
            "INFO:     2405:201:c41f:e027:2713:ee1b:dfaa:1e70:0 - \"POST /predict HTTP/1.1\" 200 OK\n",
            "INFO:     2405:201:c41f:e027:2713:ee1b:dfaa:1e70:0 - \"POST /predict HTTP/1.1\" 200 OK\n",
            "INFO:     2405:201:c41f:e027:2713:ee1b:dfaa:1e70:0 - \"POST /predict HTTP/1.1\" 200 OK\n",
            "INFO:     2405:201:c41f:e027:2713:ee1b:dfaa:1e70:0 - \"POST /predict HTTP/1.1\" 200 OK\n",
            "INFO:     2405:201:c41f:e027:2713:ee1b:dfaa:1e70:0 - \"POST /predict HTTP/1.1\" 200 OK\n",
            "INFO:     2405:201:c41f:e027:2713:ee1b:dfaa:1e70:0 - \"POST /predict HTTP/1.1\" 200 OK\n",
            "INFO:     2405:201:c41f:e027:2713:ee1b:dfaa:1e70:0 - \"POST /predict HTTP/1.1\" 200 OK\n",
            "INFO:     2405:201:c41f:e027:2713:ee1b:dfaa:1e70:0 - \"POST /predict HTTP/1.1\" 200 OK\n",
            "INFO:     2405:201:c41f:e027:2713:ee1b:dfaa:1e70:0 - \"POST /predict HTTP/1.1\" 200 OK\n",
            "INFO:     2405:201:c41f:e027:2713:ee1b:dfaa:1e70:0 - \"POST /predict HTTP/1.1\" 200 OK\n",
            "INFO:     2405:201:c41f:e027:2713:ee1b:dfaa:1e70:0 - \"POST /predict HTTP/1.1\" 200 OK\n",
            "INFO:     2405:201:c41f:e027:2713:ee1b:dfaa:1e70:0 - \"POST /predict HTTP/1.1\" 200 OK\n",
            "INFO:     2405:201:c41f:e027:2713:ee1b:dfaa:1e70:0 - \"POST /predict HTTP/1.1\" 200 OK\n",
            "INFO:     2405:201:c41f:e027:2713:ee1b:dfaa:1e70:0 - \"POST /predict HTTP/1.1\" 200 OK\n",
            "INFO:     2405:201:c41f:e027:2713:ee1b:dfaa:1e70:0 - \"POST /predict HTTP/1.1\" 200 OK\n",
            "INFO:     2405:201:c41f:e027:2713:ee1b:dfaa:1e70:0 - \"POST /predict HTTP/1.1\" 200 OK\n",
            "INFO:     2405:201:c41f:e027:2713:ee1b:dfaa:1e70:0 - \"POST /predict HTTP/1.1\" 200 OK\n",
            "INFO:     2405:201:c41f:e027:2713:ee1b:dfaa:1e70:0 - \"POST /predict HTTP/1.1\" 200 OK\n",
            "INFO:     2405:201:c41f:e027:2713:ee1b:dfaa:1e70:0 - \"POST /predict HTTP/1.1\" 200 OK\n",
            "INFO:     2405:201:c41f:e027:2713:ee1b:dfaa:1e70:0 - \"POST /predict HTTP/1.1\" 200 OK\n",
            "INFO:     2405:201:c41f:e027:2713:ee1b:dfaa:1e70:0 - \"POST /predict HTTP/1.1\" 200 OK\n",
            "INFO:     2405:201:c41f:e027:2713:ee1b:dfaa:1e70:0 - \"POST /predict HTTP/1.1\" 200 OK\n",
            "INFO:     2405:201:c41f:e027:2713:ee1b:dfaa:1e70:0 - \"POST /predict HTTP/1.1\" 200 OK\n",
            "INFO:     2405:201:c41f:e027:2713:ee1b:dfaa:1e70:0 - \"POST /predict HTTP/1.1\" 200 OK\n",
            "INFO:     2405:201:c41f:e027:2713:ee1b:dfaa:1e70:0 - \"POST /predict HTTP/1.1\" 200 OK\n",
            "INFO:     2405:201:c41f:e027:2713:ee1b:dfaa:1e70:0 - \"POST /predict HTTP/1.1\" 200 OK\n",
            "INFO:     2405:201:c41f:e027:2713:ee1b:dfaa:1e70:0 - \"POST /predict HTTP/1.1\" 200 OK\n",
            "INFO:     2405:201:c41f:e027:2713:ee1b:dfaa:1e70:0 - \"POST /predict HTTP/1.1\" 200 OK\n",
            "INFO:     2405:201:c41f:e027:2713:ee1b:dfaa:1e70:0 - \"POST /predict HTTP/1.1\" 200 OK\n",
            "INFO:     2405:201:c41f:e027:2713:ee1b:dfaa:1e70:0 - \"POST /predict HTTP/1.1\" 200 OK\n",
            "INFO:     2405:201:c41f:e027:2713:ee1b:dfaa:1e70:0 - \"POST /predict HTTP/1.1\" 200 OK\n",
            "INFO:     2405:201:c41f:e027:2713:ee1b:dfaa:1e70:0 - \"POST /predict HTTP/1.1\" 200 OK\n",
            "INFO:     2405:201:c41f:e027:2713:ee1b:dfaa:1e70:0 - \"POST /predict HTTP/1.1\" 200 OK\n",
            "INFO:     2405:201:c41f:e027:2713:ee1b:dfaa:1e70:0 - \"POST /predict HTTP/1.1\" 200 OK\n",
            "INFO:     2405:201:c41f:e027:2713:ee1b:dfaa:1e70:0 - \"POST /predict HTTP/1.1\" 200 OK\n",
            "INFO:     2405:201:c41f:e027:2713:ee1b:dfaa:1e70:0 - \"POST /predict HTTP/1.1\" 200 OK\n",
            "INFO:     2405:201:c41f:e027:2713:ee1b:dfaa:1e70:0 - \"POST /predict HTTP/1.1\" 200 OK\n",
            "INFO:     2405:201:c41f:e027:2713:ee1b:dfaa:1e70:0 - \"POST /predict HTTP/1.1\" 200 OK\n",
            "INFO:     2405:201:c41f:e027:2713:ee1b:dfaa:1e70:0 - \"POST /predict HTTP/1.1\" 200 OK\n",
            "INFO:     2405:201:c41f:e027:2713:ee1b:dfaa:1e70:0 - \"POST /predict HTTP/1.1\" 200 OK\n",
            "INFO:     2405:201:c41f:e027:2713:ee1b:dfaa:1e70:0 - \"POST /predict HTTP/1.1\" 200 OK\n",
            "INFO:     2405:201:c41f:e027:2713:ee1b:dfaa:1e70:0 - \"POST /predict HTTP/1.1\" 200 OK\n",
            "INFO:     2405:201:c41f:e027:2713:ee1b:dfaa:1e70:0 - \"POST /predict HTTP/1.1\" 200 OK\n",
            "INFO:     2405:201:c41f:e027:2713:ee1b:dfaa:1e70:0 - \"POST /predict HTTP/1.1\" 200 OK\n",
            "INFO:     2405:201:c41f:e027:2713:ee1b:dfaa:1e70:0 - \"POST /predict HTTP/1.1\" 200 OK\n",
            "INFO:     2405:201:c41f:e027:2713:ee1b:dfaa:1e70:0 - \"POST /predict HTTP/1.1\" 200 OK\n",
            "INFO:     2405:201:c41f:e027:2713:ee1b:dfaa:1e70:0 - \"POST /predict HTTP/1.1\" 200 OK\n",
            "INFO:     2405:201:c41f:e027:2713:ee1b:dfaa:1e70:0 - \"POST /predict HTTP/1.1\" 200 OK\n",
            "INFO:     2405:201:c41f:e027:2713:ee1b:dfaa:1e70:0 - \"POST /predict HTTP/1.1\" 200 OK\n",
            "INFO:     2405:201:c41f:e027:2713:ee1b:dfaa:1e70:0 - \"POST /predict HTTP/1.1\" 200 OK\n",
            "INFO:     2405:201:c41f:e027:2713:ee1b:dfaa:1e70:0 - \"POST /predict HTTP/1.1\" 200 OK\n",
            "INFO:     2405:201:c41f:e027:2713:ee1b:dfaa:1e70:0 - \"POST /predict HTTP/1.1\" 200 OK\n",
            "INFO:     2405:201:c41f:e027:2713:ee1b:dfaa:1e70:0 - \"POST /predict HTTP/1.1\" 200 OK\n",
            "INFO:     2405:201:c41f:e027:2713:ee1b:dfaa:1e70:0 - \"POST /predict HTTP/1.1\" 200 OK\n",
            "INFO:     2405:201:c41f:e027:2713:ee1b:dfaa:1e70:0 - \"POST /predict HTTP/1.1\" 200 OK\n",
            "INFO:     2405:201:c41f:e027:2713:ee1b:dfaa:1e70:0 - \"POST /predict HTTP/1.1\" 200 OK\n",
            "INFO:     2405:201:c41f:e027:2713:ee1b:dfaa:1e70:0 - \"POST /predict HTTP/1.1\" 200 OK\n",
            "INFO:     2405:201:c41f:e027:2713:ee1b:dfaa:1e70:0 - \"POST /predict HTTP/1.1\" 200 OK\n",
            "INFO:     2405:201:c41f:e027:2713:ee1b:dfaa:1e70:0 - \"POST /predict HTTP/1.1\" 200 OK\n",
            "INFO:     2405:201:c41f:e027:2713:ee1b:dfaa:1e70:0 - \"POST /predict HTTP/1.1\" 200 OK\n",
            "INFO:     2405:201:c41f:e027:2713:ee1b:dfaa:1e70:0 - \"POST /predict HTTP/1.1\" 200 OK\n",
            "INFO:     2405:201:c41f:e027:2713:ee1b:dfaa:1e70:0 - \"POST /predict HTTP/1.1\" 200 OK\n",
            "INFO:     2405:201:c41f:e027:2713:ee1b:dfaa:1e70:0 - \"POST /predict HTTP/1.1\" 200 OK\n"
          ]
        },
        {
          "output_type": "stream",
          "name": "stderr",
          "text": [
            "INFO:     Shutting down\n",
            "INFO:     Waiting for application shutdown.\n",
            "INFO:     Application shutdown complete.\n",
            "INFO:     Finished server process [693]\n"
          ]
        }
      ]
    },
    {
      "cell_type": "code",
      "source": [
        "!pkill -f ngrok\n",
        "\n"
      ],
      "metadata": {
        "id": "_Pn-5mP9zRie"
      },
      "execution_count": 38,
      "outputs": []
    },
    {
      "cell_type": "code",
      "source": [],
      "metadata": {
        "id": "Q7Xj1kdPzT_H"
      },
      "execution_count": 10,
      "outputs": []
    }
  ]
}